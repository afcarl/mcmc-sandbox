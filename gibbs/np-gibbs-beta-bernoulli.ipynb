{
 "metadata": {
  "name": "",
  "signature": "sha256:42c2c392814a9581298351453bbb1b5ac003698eee5fedc2a1cd47cf190c4e98"
 },
 "nbformat": 3,
 "nbformat_minor": 0,
 "worksheets": [
  {
   "cells": [
    {
     "cell_type": "heading",
     "level": 1,
     "metadata": {},
     "source": [
      "Gibbs sampling for the non-parameteric beta-bernoulli mixture model"
     ]
    },
    {
     "cell_type": "heading",
     "level": 2,
     "metadata": {},
     "source": [
      "Dirichlet processes"
     ]
    },
    {
     "cell_type": "heading",
     "level": 3,
     "metadata": {},
     "source": [
      "Stick breaking"
     ]
    },
    {
     "cell_type": "code",
     "collapsed": false,
     "input": [
      "# setup workspace\n",
      "import numpy as np\n",
      "import scipy as sp\n",
      "import scipy.misc \n",
      "\n",
      "%matplotlib inline\n",
      "import matplotlib.pylab as plt\n",
      "\n",
      "import itertools as it\n",
      "import math"
     ],
     "language": "python",
     "metadata": {},
     "outputs": [],
     "prompt_number": 1
    },
    {
     "cell_type": "code",
     "collapsed": false,
     "input": [
      "alpha = 2.0\n",
      "\n",
      "def stickbreak(alpha, stop=1e-5):\n",
      "    remaining = 1.0\n",
      "    pis = []\n",
      "    while remaining >= stop:\n",
      "        beta_k = np.random.beta(1.0, alpha)\n",
      "        pi_k = beta_k*remaining\n",
      "        remaining *= (1.-beta_k)\n",
      "        pis.append(pi_k)\n",
      "    return pis\n",
      "\n",
      "samples = [stickbreak(alpha) for _ in xrange(3)]\n",
      "for pis in samples:\n",
      "    plt.bar(xrange(len(pis)), pis, width=1.0)\n",
      "    plt.xlabel(r'$k$')\n",
      "    plt.ylabel(r'$\\pi_k$')\n",
      "    plt.show()"
     ],
     "language": "python",
     "metadata": {},
     "outputs": [
      {
       "metadata": {},
       "output_type": "display_data",
       "png": "[encoded data removed]",
       "text": [
        "<matplotlib.figure.Figure at 0x1097124d0>"
       ]
      },
      {
       "metadata": {},
       "output_type": "display_data",
       "png": "[encoded data removed]",
       "text": [
        "<matplotlib.figure.Figure at 0x109773650>"
       ]
      },
      {
       "metadata": {},
       "output_type": "display_data",
       "png": "[encoded data removed]",
       "text": [
        "<matplotlib.figure.Figure at 0x1099caf10>"
       ]
      }
     ],
     "prompt_number": 7
    },
    {
     "cell_type": "code",
     "collapsed": false,
     "input": [
      "# concentration: average number of clusters needed to reach a certain concentration\n",
      "ntrials = 10000\n",
      "print np.array([len(stickbreak(1.0)) for _ in xrange(ntrials)]).mean()\n",
      "print np.array([len(stickbreak(10.0)) for _ in xrange(ntrials)]).mean()"
     ],
     "language": "python",
     "metadata": {},
     "outputs": [
      {
       "output_type": "stream",
       "stream": "stdout",
       "text": [
        "12.4604\n",
        "116.083"
       ]
      },
      {
       "output_type": "stream",
       "stream": "stdout",
       "text": [
        "\n"
       ]
      }
     ],
     "prompt_number": 22
    },
    {
     "cell_type": "heading",
     "level": 3,
     "metadata": {},
     "source": [
      "Chinese restaurant process"
     ]
    },
    {
     "cell_type": "code",
     "collapsed": false,
     "input": [
      "def discrete_sample(pmf):\n",
      "    coin = np.random.random()\n",
      "    acc = 0.0\n",
      "    n, = pmf.shape\n",
      "    for i in xrange(n):\n",
      "        acc0 = acc + pmf[i]\n",
      "        if coin <= acc0:\n",
      "            return i\n",
      "        acc = acc0\n",
      "    return n-1\n",
      " \n",
      "def DPMM_generate_samples(N, D, alpha, prior_sample_fn, likelihood_sample_fn, dtype=np.float):\n",
      "    cluster_params = [prior_sample_fn()]\n",
      "    cluster_counts = np.array([1])\n",
      "    cluster_assigns = np.zeros(N, dtype=np.int64)\n",
      "    Y = np.zeros((N, D), dtype=dtype)\n",
      "    Y[0] = likelihood_sample_fn(cluster_params[0])\n",
      "    cluster_assigns[0] = 0\n",
      "    for n in xrange(1, N):\n",
      "        dist = np.append(cluster_counts, alpha).astype(np.float, copy=False)\n",
      "        dist /= dist.sum()\n",
      "        choice = discrete_sample(dist)\n",
      "        if choice == len(cluster_params): \n",
      "            # new cluster\n",
      "            cluster_params.append(prior_sample_fn())\n",
      "            cluster_counts = np.append(cluster_counts, 1)\n",
      "            params = cluster_params[-1]\n",
      "        else:\n",
      "            # existing cluster\n",
      "            cluster_counts[choice] += 1\n",
      "            params = cluster_params[choice]\n",
      "        cluster_assigns[n] = choice\n",
      "        Y[n] = likelihood_sample_fn(params)\n",
      "    return Y, cluster_params, cluster_counts, cluster_assigns"
     ],
     "language": "python",
     "metadata": {},
     "outputs": [],
     "prompt_number": 12
    },
    {
     "cell_type": "code",
     "collapsed": false,
     "input": [
      "import gcp_util # https://code.google.com/p/haines/source/browse/gcp/wishart.py\n",
      "\n",
      "D = 2\n",
      "mu0 = np.zeros(2)\n",
      "lambda0 = 0.3\n",
      "A0 = gcp_util.random_orthonormal_matrix(D)\n",
      "psi0 = np.dot(np.dot(A0, np.diag([1.0, 0.1])), A0.T)\n",
      "nu0 = D + 2\n",
      "N = 500\n",
      "gcp_prior_sample_fn = lambda: gcp_util.sample_niw(mu0, lambda0, psi0, nu0)\n",
      "gcp_likelihood_sample_fn = lambda params: np.random.multivariate_normal(mean=params[0], cov=params[1])\n",
      "\n",
      "Y, cluster_params, cluster_counts, _ = DPMM_generate_samples(N, D, 0.3, gcp_prior_sample_fn, gcp_likelihood_sample_fn)"
     ],
     "language": "python",
     "metadata": {},
     "outputs": [],
     "prompt_number": 96
    },
    {
     "cell_type": "code",
     "collapsed": false,
     "input": [
      "from matplotlib.patches import Ellipse\n",
      "\n",
      "cluster_dist = cluster_counts.astype(np.float)\n",
      "cluster_dist /= cluster_dist.sum()\n",
      "print cluster_dist\n",
      "\n",
      "for pi_k, mu_k in zip(cluster_dist, [x[0] for x in cluster_params]):\n",
      "    plt.plot(mu_k[0], mu_k[1], 'ro', markersize=15.*pi_k, zorder=10)\n",
      "\n",
      "for pi_k, (mu_k, sigma_k) in zip(cluster_dist, cluster_params):\n",
      "    U, s, _ = np.linalg.svd(sigma_k)\n",
      "    orient = math.atan2(U[1,0],U[0,0])*180/math.pi\n",
      "    r = 2.0\n",
      "    ellipse = Ellipse(xy=mu_k, width=2.*r*math.sqrt(s[0]), \n",
      "                      height=2.*r*math.sqrt(s[1]), angle=orient, fill=False, \n",
      "                      linewidth=1.0*pi_k)\n",
      "    plt.gca().add_patch(ellipse)\n",
      "    \n",
      "plt.axis(\"auto\") \n",
      "plt.tight_layout()\n",
      "\n",
      "plt.plot(Y[:,0], Y[:,1], 'x')"
     ],
     "language": "python",
     "metadata": {},
     "outputs": [
      {
       "output_type": "stream",
       "stream": "stdout",
       "text": [
        "[ 0.496  0.458  0.042  0.004]\n"
       ]
      },
      {
       "metadata": {},
       "output_type": "pyout",
       "prompt_number": 97,
       "text": [
        "[<matplotlib.lines.Line2D at 0x10b7c79d0>]"
       ]
      },
      {
       "metadata": {},
       "output_type": "display_data",
       "png": "[encoded data removed]",
       "text": [
        "<matplotlib.figure.Figure at 0x10b7c7d90>"
       ]
      }
     ],
     "prompt_number": 97
    },
    {
     "cell_type": "heading",
     "level": 2,
     "metadata": {},
     "source": [
      "Infinite beta-bernoulli DP mixture model"
     ]
    },
    {
     "cell_type": "markdown",
     "metadata": {},
     "source": [
      "\\begin{align*}\n",
      "    G &\\sim \\textrm{DP}(\\alpha, \\textrm{Beta}(\\beta, \\gamma)^{D}) \\\\\n",
      "    \\{\\overline{p}_{d}^i\\}_{i=1}^{D} | G &\\sim G \\\\\n",
      "    y_i^d | \\overline{p}_{d}^i &\\sim \\textrm{Bernoulli}(\\overline{p}_{d}^i)\n",
      "\\end{align*}"
     ]
    },
    {
     "cell_type": "code",
     "collapsed": false,
     "input": [
      "def gibbs_infinite_beta_bernoulli(Y, alpha, beta, gamma, niters, assertions=False):\n",
      "    N, D = Y.shape\n",
      "    alpha, beta, gamma = map(float, [alpha, beta, gamma])\n",
      "    \n",
      "    # start with no clusters\n",
      "    assignments = -1*np.ones(N, dtype=np.int64)\n",
      "    sums = np.zeros((D, 0), dtype=np.int64)\n",
      "    cnts = np.zeros(0, dtype=np.int64)\n",
      "\n",
      "    # warning: the cluster IDs *across* histories are not consistent and \n",
      "    # cannot be reliably compared (unlike the finite case)\n",
      "    history = np.zeros((niters, N), dtype=np.int64)\n",
      "\n",
      "    # precomputations\n",
      "    nplog = np.log\n",
      "    npexp = np.exp\n",
      "    nparray = np.array\n",
      "    logsumexp = sp.misc.logsumexp\n",
      "    beta_plus_gamma = beta + gamma\n",
      "    lg_beta_plus_gamma = nplog(beta_plus_gamma)\n",
      "    D_lg_beta_plus_gamma = D * lg_beta_plus_gamma\n",
      "    lg_alpha = nplog(alpha)\n",
      "    lg_beta = nplog(beta)\n",
      "    lg_gamma = nplog(gamma)\n",
      "\n",
      "    for t in xrange(niters):\n",
      "        # XXX(stephentu): go through the data in a random permutation\n",
      "        # as suggested by Kevin Murphy's book\n",
      "        for i in xrange(N):\n",
      "            yi, ci = Y[i], assignments[i]\n",
      "            \n",
      "            # remove from SS if currently assigned:\n",
      "            reusing = False\n",
      "            pseudocounts = np.zeros(cnts.shape[0])\n",
      "            if ci != -1:\n",
      "                sums[:,ci] -= yi\n",
      "                cnts[ci] -= 1\n",
      "                if cnts[ci] == 0:\n",
      "                    # we reuse this cluster as the \"new\" cluster\n",
      "                    reusing = True\n",
      "                    pseudocounts[ci] = alpha\n",
      "\n",
      "            # look at existing clusters \n",
      "            if cnts.shape[0]:\n",
      "                lg_denom = nplog(cnts.sum() + alpha)\n",
      "                lg_term1 = nplog(cnts + pseudocounts) - lg_denom - D*nplog(beta_plus_gamma + cnts)\n",
      "                lg_term2 = nplog(beta + sums)\n",
      "                lg_term3 = nplog(gamma + cnts - sums)\n",
      "                lg_dist = lg_term1 + (lg_term2*yi[:,np.newaxis] + lg_term3*(1-yi[:,np.newaxis])).sum(axis=0)\n",
      "            else:\n",
      "                assert not reusing\n",
      "                lg_dist = np.array([])\n",
      "                \n",
      "            # consider new cluster\n",
      "            if not reusing:\n",
      "                new_lg_term1 = lg_alpha - nplog(cnts.sum() + alpha) - D_lg_beta_plus_gamma\n",
      "                new_lg_term2 = (lg_beta*yi).sum() + (lg_gamma*(1-yi)).sum()\n",
      "                lg_dist = np.append(lg_dist, new_lg_term1 + new_lg_term2)\n",
      "\n",
      "            lg_dist -= logsumexp(lg_dist) # normalize\n",
      "\n",
      "            # reassign\n",
      "            new_ci = discrete_sample(npexp(lg_dist))\n",
      "            \n",
      "            assignments[i] = new_ci\n",
      "            if new_ci == cnts.shape[0]: \n",
      "                # new cluster\n",
      "                sums = np.append(sums, yi[:,np.newaxis], axis=1)\n",
      "                cnts = np.append(cnts, 1)\n",
      "        \n",
      "            # now check if the old ci is an empty cluster we need to clean up\n",
      "            if reusing and cnts[ci] == 0:\n",
      "                # need to clean up\n",
      "                #cnts = np.hstack((cnts[:ci], cnts[ci+1:]))\n",
      "                #sums = np.hstack((sums[:,:ci], sums[:,ci+1:]))\n",
      "                cnts = np.delete(cnts, ci)\n",
      "                sums = np.delete(sums, ci, axis=1)\n",
      "                \n",
      "                # shift the indices down\n",
      "                assignments[assignments >= ci] -= 1\n",
      "                \n",
      "            # all clusters should have points assigned (and there should be at least one cluster)\n",
      "            if assertions:\n",
      "                assert cnts.shape[0] \n",
      "                assert not (cnts==0).any()\n",
      "                assert cnts.shape[0] == sums.shape[1]\n",
      "                assert set(assignments[assignments >= 0]) == set(range(cnts.shape[0]))\n",
      "            \n",
      "        history[t] = assignments\n",
      "\n",
      "    return history"
     ],
     "language": "python",
     "metadata": {},
     "outputs": [],
     "prompt_number": 15
    },
    {
     "cell_type": "code",
     "collapsed": false,
     "input": [
      "alpha, beta, gamma = 2., 1., 1.\n",
      "D = 10\n",
      "N = 10\n",
      "def bernoulli(p):\n",
      "    return 1 if np.random.random() <= p else 0\n",
      "bb_prior_sample_fn = lambda: np.random.beta(beta, gamma, size=D)\n",
      "bb_likelihood_sample_fn = lambda params: map(bernoulli, params)\n",
      "\n",
      "Y, cluster_params, cluster_counts, cluster_assigns = \\\n",
      "    DPMM_generate_samples(N, D, alpha, bb_prior_sample_fn, bb_likelihood_sample_fn, dtype=np.int64)\n",
      "print cluster_assigns"
     ],
     "language": "python",
     "metadata": {},
     "outputs": [
      {
       "output_type": "stream",
       "stream": "stdout",
       "text": [
        "[0 1 1 2 0 0 0 0 0 1]\n"
       ]
      }
     ],
     "prompt_number": 37
    },
    {
     "cell_type": "code",
     "collapsed": false,
     "input": [
      "chain = gibbs_infinite_beta_bernoulli(Y, alpha, beta, gamma, 10000)"
     ],
     "language": "python",
     "metadata": {},
     "outputs": [],
     "prompt_number": 38
    },
    {
     "cell_type": "code",
     "collapsed": false,
     "input": [
      "print cluster_assigns\n",
      "\n",
      "skip = 10\n",
      "skipped_chain = chain[::skip]\n",
      "print skipped_chain.shape\n",
      "\n",
      "from sklearn.metrics import adjusted_rand_score\n",
      "scores = [adjusted_rand_score(cluster_assigns, c) for c in skipped_chain]\n",
      "plt.plot(range(0, chain.shape[0], skip), scores)"
     ],
     "language": "python",
     "metadata": {},
     "outputs": [
      {
       "output_type": "stream",
       "stream": "stdout",
       "text": [
        "[0 1 1 2 0 0 0 0 0 1]\n",
        "(1000, 10)\n"
       ]
      },
      {
       "metadata": {},
       "output_type": "pyout",
       "prompt_number": 39,
       "text": [
        "[<matplotlib.lines.Line2D at 0x7f1ff6628a50>]"
       ]
      },
      {
       "metadata": {},
       "output_type": "display_data",
       "png": "[encoded data removed]",
       "text": [
        "<matplotlib.figure.Figure at 0x7f1ff4175410>"
       ]
      }
     ],
     "prompt_number": 39
    },
    {
     "cell_type": "code",
     "collapsed": false,
     "input": [
      "def lg_pr_crp_assignment(assignments, alpha):\n",
      "    # must be a *partition* \n",
      "    nclusters = len(set(assignments))\n",
      "    assert set(assignments) == set(xrange(nclusters))\n",
      "                                  \n",
      "    lg_sum = 0.0\n",
      "    counts = np.zeros(nclusters, dtype=np.int64)\n",
      "    counts[assignments[0]] = 1\n",
      "    # CRP: \n",
      "    for i, ci in zip(xrange(1, len(assignments)), assignments[1:]):\n",
      "        numer = alpha if not counts[ci] else counts[ci]\n",
      "        denom = i + alpha\n",
      "        lg_sum += np.log(numer)\n",
      "        lg_sum -= np.log(denom)\n",
      "        counts[ci] += 1\n",
      "        \n",
      "    return lg_sum\n",
      "\n",
      "def pr_crp_assignment(assignments, alpha):\n",
      "    return np.exp(lg_pr_crp_assignment(assignments, alpha))\n",
      "\n",
      "#print pr_crp_assignment(np.array([0,0,0]), 2.)\n",
      "#print pr_crp_assignment(np.array([1,1,0]), 2.)\n",
      "#print pr_crp_assignment(np.array([0,0,1]), 2.)\n",
      "#print pr_crp_assignment(np.array([1,0,1]), 2.)\n",
      "#print pr_crp_assignment(np.array([0,1,2]), 2.)\n",
      "\n",
      "def canonical(assignments):\n",
      "    assignments = np.copy(assignments)\n",
      "    lowest = 0\n",
      "    for i in xrange(assignments.shape[0]):\n",
      "        if assignments[i] < lowest:\n",
      "            continue\n",
      "        if assignments[i] == lowest:\n",
      "            lowest += 1\n",
      "            continue\n",
      "        temp = assignments[i]\n",
      "        idxs = assignments == temp\n",
      "        assignments[assignments == lowest] = temp\n",
      "        assignments[idxs] = lowest\n",
      "        lowest += 1\n",
      "    return assignments\n",
      "        \n",
      "def permutation_iter(n):\n",
      "    seen = set()\n",
      "    for C in it.product(range(n), repeat=n):\n",
      "        C = tuple(canonical(np.array(C)))\n",
      "        if C in seen:\n",
      "            continue\n",
      "        seen.add(C)\n",
      "        yield C\n",
      "    \n",
      "print np.exp(sp.misc.logsumexp([lg_pr_crp_assignment(np.array(C), 2.) for C in permutation_iter(4)]))"
     ],
     "language": "python",
     "metadata": {},
     "outputs": [
      {
       "output_type": "stream",
       "stream": "stdout",
       "text": [
        "0.166666666667\n",
        "0.166666666667\n",
        "0.166666666667\n",
        "0.166666666667\n",
        "0.333333333333\n",
        "1.0\n"
       ]
      }
     ],
     "prompt_number": 77
    },
    {
     "cell_type": "raw",
     "metadata": {},
     "source": []
    }
   ],
   "metadata": {}
  }
 ]
}