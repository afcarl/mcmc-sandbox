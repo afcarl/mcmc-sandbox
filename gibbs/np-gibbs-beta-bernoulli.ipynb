{
 "metadata": {
  "name": "",
  "signature": "sha256:6a0733805a40fb85c68e9da3ffc1963ba0f30d8ae7de442818c7bcff0669f26b"
 },
 "nbformat": 3,
 "nbformat_minor": 0,
 "worksheets": [
  {
   "cells": [
    {
     "cell_type": "heading",
     "level": 1,
     "metadata": {},
     "source": [
      "Gibbs sampling for the non-parameteric beta-bernoulli mixture model"
     ]
    },
    {
     "cell_type": "heading",
     "level": 2,
     "metadata": {},
     "source": [
      "Dirichlet processes"
     ]
    },
    {
     "cell_type": "heading",
     "level": 3,
     "metadata": {},
     "source": [
      "Stick breaking"
     ]
    },
    {
     "cell_type": "code",
     "collapsed": false,
     "input": [
      "# setup workspace\n",
      "import numpy as np\n",
      "import scipy as sp\n",
      "\n",
      "%matplotlib inline\n",
      "import matplotlib.pylab as plt\n",
      "\n",
      "import itertools as it\n",
      "import math"
     ],
     "language": "python",
     "metadata": {},
     "outputs": [],
     "prompt_number": 1
    },
    {
     "cell_type": "code",
     "collapsed": false,
     "input": [
      "alpha = 2.0\n",
      "\n",
      "def stickbreak(alpha, stop=1e-5):\n",
      "    remaining = 1.0\n",
      "    pis = []\n",
      "    while remaining >= stop:\n",
      "        beta_k = np.random.beta(1.0, alpha)\n",
      "        pi_k = beta_k*remaining\n",
      "        remaining *= (1.-beta_k)\n",
      "        pis.append(pi_k)\n",
      "    return pis\n",
      "\n",
      "samples = [stickbreak(alpha) for _ in xrange(3)]\n",
      "for pis in samples:\n",
      "    plt.bar(xrange(len(pis)), pis, width=1.0)\n",
      "    plt.xlabel(r'$k$')\n",
      "    plt.ylabel(r'$\\pi_k$')\n",
      "    plt.show()"
     ],
     "language": "python",
     "metadata": {},
     "outputs": [
      {
       "metadata": {},
       "output_type": "display_data",
       "png": "[encoded data removed]",
       "text": [
        "<matplotlib.figure.Figure at 0x1097124d0>"
       ]
      },
      {
       "metadata": {},
       "output_type": "display_data",
       "png": "[encoded data removed]",
       "text": [
        "<matplotlib.figure.Figure at 0x109773650>"
       ]
      },
      {
       "metadata": {},
       "output_type": "display_data",
       "png": "[encoded data removed]",
       "text": [
        "<matplotlib.figure.Figure at 0x1099caf10>"
       ]
      }
     ],
     "prompt_number": 7
    },
    {
     "cell_type": "code",
     "collapsed": false,
     "input": [
      "# concentration: average number of clusters needed to reach a certain concentration\n",
      "ntrials = 10000\n",
      "print np.array([len(stickbreak(1.0)) for _ in xrange(ntrials)]).mean()\n",
      "print np.array([len(stickbreak(10.0)) for _ in xrange(ntrials)]).mean()"
     ],
     "language": "python",
     "metadata": {},
     "outputs": [
      {
       "output_type": "stream",
       "stream": "stdout",
       "text": [
        "12.4604\n",
        "116.083"
       ]
      },
      {
       "output_type": "stream",
       "stream": "stdout",
       "text": [
        "\n"
       ]
      }
     ],
     "prompt_number": 22
    },
    {
     "cell_type": "heading",
     "level": 3,
     "metadata": {},
     "source": [
      "Chinese restaurant process"
     ]
    },
    {
     "cell_type": "code",
     "collapsed": false,
     "input": [
      "import gcp_util # https://code.google.com/p/haines/source/browse/gcp/wishart.py\n",
      "D = 2\n",
      "mu0 = np.zeros(2)\n",
      "lambda0 = 0.3\n",
      "A0 = gcp_util.random_orthonormal_matrix(D)\n",
      "psi0 = np.dot(np.dot(A0, np.diag([1.0, 0.1])), A0.T)\n",
      "nu0 = D + 2"
     ],
     "language": "python",
     "metadata": {},
     "outputs": [],
     "prompt_number": 81
    },
    {
     "cell_type": "code",
     "collapsed": false,
     "input": [
      "def discrete_sample(pmf):\n",
      "    coin = np.random.random()\n",
      "    acc = 0.0\n",
      "    n, = pmf.shape\n",
      "    for i in xrange(n):\n",
      "        acc0 = acc + pmf[i]\n",
      "        if coin <= acc0:\n",
      "            return i\n",
      "        acc = acc0\n",
      "    return n-1\n",
      "\n",
      "N = 500\n",
      "cluster_params = [gcp_util.sample_niw(mu0, lambda0, psi0, nu0)]\n",
      "cluster_counts = np.array([1])\n",
      "Y = np.zeros((N, D))\n",
      "Y[0] = np.random.multivariate_normal(mean=cluster_params[0][0], cov=cluster_params[0][1])\n",
      "alpha = 0.3\n",
      "for n in xrange(1, N):\n",
      "    dist = np.append(cluster_counts, alpha).astype(np.float, copy=False)\n",
      "    dist /= dist.sum()\n",
      "    choice = discrete_sample(dist)\n",
      "    if choice == len(cluster_params): \n",
      "        # new cluster\n",
      "        cluster_params.append(gcp_util.sample_niw(mu0, lambda0, psi0, nu0))\n",
      "        cluster_counts = np.append(cluster_counts, 1)\n",
      "        mu_n, sigma_n = cluster_params[-1]\n",
      "    else:\n",
      "        # existing cluster\n",
      "        cluster_counts[choice] += 1\n",
      "        mu_n, sigma_n = cluster_params[choice]\n",
      "    Y[n] = np.random.multivariate_normal(mean=mu_n, cov=sigma_n)"
     ],
     "language": "python",
     "metadata": {},
     "outputs": [],
     "prompt_number": 82
    },
    {
     "cell_type": "code",
     "collapsed": false,
     "input": [
      "from matplotlib.patches import Ellipse\n",
      "\n",
      "for pi_k, mu_k in zip(cluster_dist, [x[0] for x in cluster_params]):\n",
      "    plt.plot(mu_k[0], mu_k[1], 'ro', markersize=15.*pi_k, zorder=10)\n",
      "\n",
      "cluster_dist = cluster_counts.astype(np.float)\n",
      "cluster_dist /= cluster_dist.sum()\n",
      "print cluster_dist\n",
      "for pi_k, (mu_k, sigma_k) in zip(cluster_dist, cluster_params):\n",
      "    U, s, _ = np.linalg.svd(sigma_k)\n",
      "    orient = math.atan2(U[1,0],U[0,0])*180/math.pi\n",
      "    r = 2.0\n",
      "    ellipse = Ellipse(xy=mu_k, width=2.*r*math.sqrt(s[0]), \n",
      "                      height=2.*r*math.sqrt(s[1]), angle=orient, fill=False, \n",
      "                      linewidth=1.0*pi_k)\n",
      "    plt.gca().add_patch(ellipse)\n",
      "    \n",
      "plt.axis(\"auto\") \n",
      "plt.tight_layout()\n",
      "\n",
      "plt.plot(Y[:,0], Y[:,1], 'x')"
     ],
     "language": "python",
     "metadata": {},
     "outputs": [
      {
       "output_type": "stream",
       "stream": "stdout",
       "text": [
        "[ 0.73   0.202  0.002  0.064  0.002]\n"
       ]
      },
      {
       "metadata": {},
       "output_type": "pyout",
       "prompt_number": 90,
       "text": [
        "[<matplotlib.lines.Line2D at 0x10c257cd0>]"
       ]
      },
      {
       "metadata": {},
       "output_type": "display_data",
       "png": "[encoded data removed]",
       "text": [
        "<matplotlib.figure.Figure at 0x10c273cd0>"
       ]
      }
     ],
     "prompt_number": 90
    },
    {
     "cell_type": "code",
     "collapsed": false,
     "input": [],
     "language": "python",
     "metadata": {},
     "outputs": []
    },
    {
     "cell_type": "code",
     "collapsed": false,
     "input": [],
     "language": "python",
     "metadata": {},
     "outputs": []
    }
   ],
   "metadata": {}
  }
 ]
}