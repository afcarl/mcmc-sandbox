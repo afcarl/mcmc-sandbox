{
 "metadata": {
  "name": "",
  "signature": "sha256:8daf891c3a257420768717dc0e3c4dd8d262a1adf5bbcff1fbf559176a325f69"
 },
 "nbformat": 3,
 "nbformat_minor": 0,
 "worksheets": [
  {
   "cells": [
    {
     "cell_type": "heading",
     "level": 1,
     "metadata": {},
     "source": [
      "Gibbs sampling for the beta-bernoulli mixture model"
     ]
    },
    {
     "cell_type": "heading",
     "level": 2,
     "metadata": {},
     "source": [
      "Bayesian beta-bernoulli (fixed size) mixture model"
     ]
    },
    {
     "cell_type": "markdown",
     "metadata": {},
     "source": [
      "Given a fixed $K$ and $D$, the beta-bernoulli mixture model is a generative model describing $D$-dimensional binary vectors ($y_i \\in \\{0,1\\}^{D}$) drawn from a $K$-component mixture.\n",
      "\n",
      "We can describe the probabilistic model as:\n",
      "\n",
      "\\begin{align*}\n",
      "  \\pi|\\alpha &\\sim \\text{Dirichlet}(\\{ \\frac{\\alpha}{K} \\}_{k=1}^{K}) \\\\\n",
      "  c_i|\\pi &\\sim \\text{Discrete}(\\pi) \\\\\n",
      "  p_d^{k} | \\beta,\\gamma &\\sim \\text{Beta}(\\beta, \\gamma) \\\\\n",
      "  y_i^{d} | c_i{=}k,p_d^{k} &\\sim \\text{Bernoulli}(p_d^{k})\n",
      "\\end{align*}\n",
      "\n",
      "Let us clear up some of this notation. $\\pi$ is a $K$-dimensional vector living in the $(K-1)$-dimensional probability simplex. For each $k \\in [K]$, $\\{p_d^k\\}_{d=1}^{D} \\in [0,1]^{D}$. Given $N$ data points, the assignment vector $\\{c_i\\}_{i=1}^{N} \\in \\{0, ..., K-1\\}^{N}$. The hyperparameters of this model are $\\mathcal{H} = (\\alpha, \\beta, \\gamma)$.\n",
      "\n",
      "As we will see later on, this model has nice analytical properties for Gibbs sampling, since the beta distribution is a nice conjugate prior for the bernoulli distribution.\n",
      "\n",
      "The inference problem we will consider is the following. Given a dataset $\\mathcal{Y} = \\{y_i\\}_{i=1}^{N}$, we want to learn the posterior distribution on the assignment vector $\\mathcal{C} = \\{c_i\\}_{i=1}^{N}$. That is, we want to be able to estimate and draw samples from $p(\\mathcal{C} | \\mathcal{Y}; \\mathcal{H})$."
     ]
    },
    {
     "cell_type": "heading",
     "level": 2,
     "metadata": {},
     "source": [
      "Gibbs sampling for estimating the posterior"
     ]
    },
    {
     "cell_type": "markdown",
     "metadata": {},
     "source": [
      "This problem can be solved efficiently with [Gibbs sampling](http://en.wikipedia.org/wiki/Gibbs_sampling), which is another [Markov-chain monte carlo](http://en.wikipedia.org/wiki/Markov_chain_Monte_Carlo) (MCMC) variant. Let the notation $\\mathcal{C}_{\\neg i} = \\{ c_j \\in \\mathcal{C} : j \\neq i \\}$. The Gibbs sampler assumes we can efficiently sample from the distribution $p(c_i | \\mathcal{C}_{\\neg i}, \\mathcal{Y}; \\mathcal{H})$. Every iteration of the sampling then works by\n",
      "sampling for each $i \\in [N]$,\n",
      "\\begin{align*}\n",
      "    c^{(t)}_{i} \\gets p(c_i | \\{ c_j \\in \\mathcal{C}^{(t)} : j < i \\}, \\{ c_j \\in \\mathcal{C}^{(t-1)} : j > i \\}, \\mathcal{Y}; \\mathcal{H})\n",
      "\\end{align*}\n",
      "\n",
      "Let the notation $\\mathcal{Y}^{k}_{\\neg i} = \\{ y_j \\in \\mathcal{Y} : c_j = k, j \\neq i \\}$.\n",
      "It turns out, for the beta-bernoulli model, we can indeed [derive](http://homepage.tudelft.nl/19j49/Publications_files/TR_1.pdf) that\n",
      "\\begin{align*}\n",
      "  p(c_i{=}k|\\mathcal{C}_{\\neg i}, \\mathcal{Y};\\mathcal{H}) \\propto\n",
      "    \\frac{ |\\mathcal{Y}^{k}_{\\neg i}| + \\frac{\\alpha}{K} }{ N - 1 + \\alpha } \\prod_{d=1}^{D} \\frac{(\\beta+\\sum_{y_k\\in \\mathcal{Y}^{k}_{\\neg i}} y_k^{d})^{y_i^d} (  \\gamma + |\\mathcal{Y}^{k}_{\\neg i}| - \\sum_{y_k\\in \\mathcal{Y}^{k}_{\\neg i}} y_k^{d})^{(1-y_i^{d})} }{ \\beta + \\gamma + |\\mathcal{Y}^{k}_{\\neg i}| }\n",
      "\\end{align*}\n",
      "We can construct $p(c_i{=}k|\\mathcal{C}_{\\neg i}, \\mathcal{Y};\\mathcal{H})$ exactly by then enumerating through all $K$ clusters and normalizing."
     ]
    },
    {
     "cell_type": "heading",
     "level": 2,
     "metadata": {},
     "source": [
      "Implementation"
     ]
    },
    {
     "cell_type": "markdown",
     "metadata": {},
     "source": [
      "We'll first implement a sampler from a discrete distribution. Note while `scipy.stats.rv_discrete` [(Docs)](http://docs.scipy.org/doc/scipy/reference/generated/scipy.stats.rv_discrete.html) implements this functionality, it is quite heavy weight to call within a loop, so we roll our own."
     ]
    },
    {
     "cell_type": "code",
     "collapsed": false,
     "input": [
      "# workspace setup\n",
      "import numpy as np\n",
      "import scipy as sp\n",
      "import scipy.io\n",
      "import scipy.misc\n",
      "import scipy.special\n",
      "\n",
      "%matplotlib inline\n",
      "import matplotlib.pylab as plt\n",
      "\n",
      "import itertools as it\n",
      "import math"
     ],
     "language": "python",
     "metadata": {},
     "outputs": [],
     "prompt_number": 1
    },
    {
     "cell_type": "code",
     "collapsed": false,
     "input": [
      "def discrete_sample(pmf):\n",
      "    coin = np.random.random()\n",
      "    acc = 0.0\n",
      "    n, = pmf.shape\n",
      "    for i in xrange(n):\n",
      "        acc0 = acc + pmf[i]\n",
      "        if coin <= acc0:\n",
      "            return i\n",
      "        acc = acc0\n",
      "    return n-1"
     ],
     "language": "python",
     "metadata": {},
     "outputs": [],
     "prompt_number": 2
    },
    {
     "cell_type": "markdown",
     "metadata": {},
     "source": [
      "Ok enough playing around! Now the actual Gibbs sampler implementation. Note we make use of [numpy broadcasting](http://docs.scipy.org/doc/numpy/user/basics.broadcasting.html) for performance:"
     ]
    },
    {
     "cell_type": "code",
     "collapsed": false,
     "input": [
      "def gibbs_beta_bernoulli(Y, K, alpha, beta, gamma, niters):\n",
      "    N, D = Y.shape\n",
      "    alpha, beta, gamma = map(float, [alpha, beta, gamma])\n",
      "\n",
      "    # start with random assignment\n",
      "    assignments = np.random.randint(0, K, size=N)\n",
      "\n",
      "    # initialize the sufficient statistics (cluster sums) accordingly\n",
      "    sums = np.zeros((D, K), dtype=np.int64)\n",
      "    cnts = np.zeros(K, dtype=np.int64)\n",
      "    for yi, ci in zip(Y, assignments):\n",
      "        sums[:,ci] += yi\n",
      "        cnts[ci] += 1\n",
      "\n",
      "    history = np.zeros((niters, N), dtype=np.int64)\n",
      "\n",
      "    # precomputations\n",
      "    nplog = np.log\n",
      "    npexp = np.exp\n",
      "    nparray = np.array\n",
      "    logsumexp = sp.misc.logsumexp\n",
      "    lg_denom = nplog(N - 1 + alpha)\n",
      "    alpha_over_K = alpha/K\n",
      "    beta_plus_gamma = beta + gamma\n",
      "\n",
      "    for t in xrange(niters):\n",
      "        for i, (yi, ci) in enumerate(zip(Y, assignments)):\n",
      "            # remove from SS\n",
      "            sums[:,ci] -= yi\n",
      "            cnts[ci] -= 1\n",
      "\n",
      "            lg_term1 = nplog(cnts + alpha_over_K) - lg_denom - D*nplog(beta_plus_gamma + cnts)\n",
      "            lg_term2 = nplog(beta + sums)\n",
      "            lg_term3 = nplog(gamma + cnts - sums)\n",
      "\n",
      "            lg_dist = lg_term1 + (lg_term2*yi[:,np.newaxis] + lg_term3*(1-yi[:,np.newaxis])).sum(axis=0)\n",
      "            lg_dist -= logsumexp(lg_dist) # normalize\n",
      "\n",
      "            # reassign\n",
      "            ci = discrete_sample(npexp(lg_dist))\n",
      "            assignments[i] = ci\n",
      "            sums[:,ci] += yi\n",
      "            cnts[ci] += 1\n",
      "        history[t] = assignments\n",
      "\n",
      "    return history"
     ],
     "language": "python",
     "metadata": {},
     "outputs": [],
     "prompt_number": 3
    },
    {
     "cell_type": "heading",
     "level": 2,
     "metadata": {},
     "source": [
      "Testing"
     ]
    },
    {
     "cell_type": "markdown",
     "metadata": {},
     "source": [
      "Let us first generate a small toy dataset (using the beta-bernoulli model as the generative process). Then we will test our Gibbs sampler on this small dataset."
     ]
    },
    {
     "cell_type": "code",
     "collapsed": false,
     "input": [
      "alpha, beta, gamma = 2., 1., 1.\n",
      "K = 2\n",
      "D = 3\n",
      "N = 4\n",
      "\n",
      "pis = np.random.dirichlet(alpha/K*np.ones(K))\n",
      "cis = np.array([discrete_sample(pis) for _ in xrange(N)])\n",
      "aks = np.random.beta(beta, gamma, size=(K, D))\n",
      "\n",
      "print 'Pi:', pis\n",
      "print 'C :', cis\n",
      "\n",
      "def bernoulli(p):\n",
      "    return 1 if np.random.random() <= p else 0\n",
      "\n",
      "Y = np.zeros((N, D), dtype=np.int64)\n",
      "for i in xrange(N):\n",
      "    Y[i] = np.array([bernoulli(aks[cis[i], d]) for d in xrange(D)])"
     ],
     "language": "python",
     "metadata": {},
     "outputs": [
      {
       "output_type": "stream",
       "stream": "stdout",
       "text": [
        "Pi: [ 0.17704708  0.82295292]\n",
        "C : [1 1 0 1]\n"
       ]
      }
     ],
     "prompt_number": 56
    },
    {
     "cell_type": "code",
     "collapsed": false,
     "input": [
      "niters = 50000\n",
      "chain = gibbs_beta_bernoulli(Y, K, alpha, beta, gamma, niters)"
     ],
     "language": "python",
     "metadata": {},
     "outputs": [],
     "prompt_number": 57
    },
    {
     "cell_type": "heading",
     "level": 3,
     "metadata": {},
     "source": [
      "Posterior distribution"
     ]
    },
    {
     "cell_type": "markdown",
     "metadata": {},
     "source": [
      "Now the natural question is, how do we verify that the Gibbs sampler is indeed drawing samples from $p(\\mathcal{C} | \\mathcal{Y})$. This is a bit trickier in the Bayesian case than the non-Bayesian case, since what we are really after is a *distribution* instead of, e.g. a point estimate.\n",
      "\n",
      "Luckily, for small problems (small $K$ and $N$), we can actually calculate $p(\\mathcal{C} | \\mathcal{Y}; \\mathcal{H})$ exactly by brute force enumeration. This is because $p(\\mathcal{C} | \\mathcal{Y} ; \\mathcal{H})$ is a discrete distribution of size $K^{N}$, and we can analytically calculate the joint distribution $p(\\mathcal{C}, \\mathcal{Y}; \\mathcal{H})$; from the joint, the posterior follows by $p(\\mathcal{C} | \\mathcal{Y} ) = \\frac{p(\\mathcal{C}, \\mathcal{Y})}{\\sum_{c} p(c ,\\mathcal{Y})}$, where the summation in the denominator is over all possible $K^N$ assignment vectors (from here on, we drop the hyperparameter dependence to ease notation).\n",
      "\n",
      "For an arbitrary $\\mathcal{C}, \\mathcal{Y}$, we have $p(\\mathcal{C}, \\mathcal{Y}) = p(\\mathcal{C}) p(\\mathcal{Y} | \\mathcal{C})$. From [page 2](http://homepage.tudelft.nl/19j49/Publications_files/TR_1.pdf), we have \n",
      "\\begin{align*}\n",
      "  p(\\mathcal{C}) = \\frac{\\Gamma(\\alpha)}{\\Gamma(|\\mathcal{Y}|+\\alpha)}\n",
      "      \\prod_{k=1}^{K} \\frac{\\Gamma( |\\mathcal{Y}^{k}| + \\frac{\\alpha}{K})}{ \\Gamma(\\frac{\\alpha}{K})}\n",
      "\\end{align*}\n",
      "where $\\Gamma(\\cdot)$ is the [Gamma](http://en.wikipedia.org/wiki/Gamma_function) function.\n",
      "We can derive $p(\\mathcal{Y}|\\mathcal{C})$ as follows.\n",
      "\\begin{align*}\n",
      "  p(\\mathcal{Y} | \\mathcal{C}) &= \n",
      "    \\prod_{k=1}^{K} p(\\mathcal{Y}^{k} | \\mathcal{C}^{k}) \\\\\n",
      "    &= \\prod_{k=1}^{K} \\int_{\\Theta_k} [\\prod_{y_i \\in \\mathcal{Y}^k} p(y_i | \\Theta_k) ] p(\\Theta_k ; \\mathcal{H}) \\; d\\Theta_k \n",
      "\\end{align*}\n",
      "Now for each $k$, we evaluate the inner integral as:\n",
      "\\begin{align*}\n",
      "  \\int_{\\theta_1,...,\\theta_D} \\prod_{d=1}^{D} \\left(\\prod_{y_i \\in \\mathcal{Y}^k} \\theta_d^{y_i^d} (1-\\theta_d)^{1-y_i^d}\\right) \\frac{1}{B(\\beta,\\gamma)} \\theta_d^{\\beta-1}(1-\\theta_d)^{\\gamma-1} \\; d\\theta_1...\\theta_{D}\n",
      "\\end{align*}\n",
      "where $B(\\beta,\\gamma)$ is the [Beta function](http://en.wikipedia.org/wiki/Beta_function). Noting that $\\int_{0}^{1} x^{(m-1)} (1-x)^{(n-1)} \\; dx = \\frac{\\Gamma(m)\\Gamma(n)}{\\Gamma(m+n)}$, we can simplify the above integral to:\n",
      "\\begin{align*}\n",
      "\\frac{1}{B(\\beta,\\gamma)^{D}} \\prod_{d=1}^{D} \\frac{\\Gamma( \\sum_{y_i \\in \\mathcal{Y}^k} y_i^d + \\beta) \\Gamma( |\\mathcal{Y}^{k}| - \\sum_{y_i \\in \\mathcal{Y}^k} y_i^d + \\gamma)}{ \\Gamma( |\\mathcal{Y}^{k}| + \\beta + \\gamma )}\n",
      "\\end{align*}\n",
      "And therefore,\n",
      "\\begin{align*}\n",
      "  p(\\mathcal{Y} | \\mathcal{C}) = \\frac{1}{B(\\beta,\\gamma)^{KD}} \\prod_{k=1}^{K} \\prod_{d=1}^{D} \\frac{\\Gamma( \\sum_{y_i \\in \\mathcal{Y}^k} y_i^d + \\beta) \\Gamma( |\\mathcal{Y}^{k}| - \\sum_{y_i \\in \\mathcal{Y}^k} y_i^d + \\gamma)}{ \\Gamma( |\\mathcal{Y}^{k}| + \\beta + \\gamma )}\n",
      "\\end{align*}\n",
      "\n",
      "Therefore, we can compute the posterior distribution of the data as follows:"
     ]
    },
    {
     "cell_type": "code",
     "collapsed": false,
     "input": [
      "def all_assignment_vectors():\n",
      "    return it.product(range(K), repeat=N)\n",
      "\n",
      "def lg_pr_joint(C, Y, K, alpha, beta, gamma):\n",
      "    N, D = Y.shape\n",
      "    nks = np.bincount(C, minlength=K)\n",
      "    assert nks.shape[0] == K\n",
      "    assert C.shape[0] == N\n",
      "\n",
      "    # log P(C)\n",
      "    gammaln = sp.special.gammaln\n",
      "    betaln = sp.special.betaln\n",
      "    term1 = gammaln(alpha) - gammaln(N + alpha) - K*gammaln(alpha/K)\n",
      "    term2 = sum(gammaln(nk + alpha/K) for nk in nks)\n",
      "    lg_pC = term1 + term2\n",
      "\n",
      "    # log P(Y|C)\n",
      "    term1 = K*D*betaln(beta, gamma)\n",
      "    term2 = D*sum(gammaln(nk + beta + gamma) for nk in nks)\n",
      "    sums = np.zeros((K, D))\n",
      "    for yi, ci in zip(Y, C):\n",
      "        sums[ci] += yi\n",
      "    def fn1(nk, sum_yid):\n",
      "        assert nk >= sum_yid\n",
      "        return gammaln(sum_yid + beta) + gammaln(nk - sum_yid + gamma)\n",
      "    term3 = sum(sum(fn1(nk, yid) for yid in row) for nk, row in zip(nks, sums))\n",
      "    lg_pYgC = -term1 - term2 + term3\n",
      "    \n",
      "    return lg_pC + lg_pYgC\n",
      "\n",
      "def brute_force_posterior(Y, K, alpha, beta, gamma):\n",
      "    N, _ = Y.shape\n",
      "\n",
      "    # enumerate K^N cluster assignments\n",
      "    lg_pis = np.array([lg_pr_joint(np.array(C), Y, K, alpha, beta, gamma) for C in all_assignment_vectors()])\n",
      "    lg_pis -= sp.misc.logsumexp(lg_pis)\n",
      "    \n",
      "    return np.exp(lg_pis)\n",
      "\n",
      "# generate an ID for each K^N element\n",
      "idmap = { C : i for i, C in enumerate(all_assignment_vectors()) }\n",
      "revidmap = { i : C for i, C in enumerate(all_assignment_vectors()) }\n",
      "\n",
      "actual_posterior = brute_force_posterior(Y, K, alpha, beta, gamma)"
     ],
     "language": "python",
     "metadata": {},
     "outputs": [],
     "prompt_number": 58
    },
    {
     "cell_type": "markdown",
     "metadata": {},
     "source": [
      "Let's pause for a second and take a look at the [MAP](http://en.wikipedia.org/wiki/Maximum_a_posteriori_estimation) estimator:"
     ]
    },
    {
     "cell_type": "code",
     "collapsed": false,
     "input": [
      "print 'P(C=actual|Y):', actual_posterior[idmap[tuple(cis)]]\n",
      "print 'max_C P(C|Y):', actual_posterior.max()\n",
      "print 'argmax_C P(C|Y):', revidmap[actual_posterior.argmax()]"
     ],
     "language": "python",
     "metadata": {},
     "outputs": [
      {
       "output_type": "stream",
       "stream": "stdout",
       "text": [
        "P(C=actual|Y): 0.0864616067769\n",
        "max_C P(C|Y): 0.132805028009\n",
        "argmax_C P(C|Y): (0, 0, 0, 0)\n"
       ]
      }
     ],
     "prompt_number": 59
    },
    {
     "cell_type": "markdown",
     "metadata": {},
     "source": [
      "Notice how the ground truth cluster assignment is *not* the MAP estimator!\n",
      "\n",
      "To measure the distance between the actual posterior distribution and that produced by our Gibbs sampler, we compare the KL-divergence of the actual and the empirical. Recall for discrete distributions the KL-divergence (relative entropy) is defined as\n",
      "\\begin{align*}\n",
      "  D(P||Q) = \\sum_{x} P(x) \\log\\frac{P(x)}{Q(x)}\n",
      "\\end{align*}"
     ]
    },
    {
     "cell_type": "code",
     "collapsed": false,
     "input": [
      "smoothing = 1e-5\n",
      "skip = 100\n",
      "skipped_chain = chain[::skip]\n",
      "window = 10000\n",
      "\n",
      "def kl(a, b):\n",
      "    return np.sum([p*np.log(p/q) for p, q in zip(a, b)])\n",
      "\n",
      "def histify(history, K):\n",
      "    _, N = history.shape\n",
      "    hist = np.zeros(K**N, dtype=np.float)\n",
      "    for h in history:\n",
      "        hist[idmap[tuple(h)]] += 1.0\n",
      "    return hist\n",
      "\n",
      "def fn(i):\n",
      "    hist = histify(skipped_chain[max(0, i-window):(i+1)], K) + smoothing\n",
      "    hist /= hist.sum()\n",
      "    return kl(actual_posterior, hist)\n",
      "\n",
      "kls = map(fn, xrange(skipped_chain.shape[0]))"
     ],
     "language": "python",
     "metadata": {},
     "outputs": [],
     "prompt_number": 60
    },
    {
     "cell_type": "markdown",
     "metadata": {},
     "source": [
      "Let's take a peek at the posterior distribution of the *last* window compared with our brute force posterior distribution:"
     ]
    },
    {
     "cell_type": "code",
     "collapsed": false,
     "input": [
      "H = histify(skipped_chain[skipped_chain.shape[0]-1-window:], K) + smoothing\n",
      "H /= H.sum()\n",
      "print \"C\\t\\tP_g(C|Y)\\tP_a(C|Y)\\t|Diff|\"\n",
      "for c, (a, b) in zip(all_assignment_vectors(), zip(H, actual_posterior)):\n",
      "    def f(x): return '%.7f' % (x)\n",
      "    print \"\\t\".join(map(str, [c,f(a),f(b),f(math.fabs(a-b))]))"
     ],
     "language": "python",
     "metadata": {},
     "outputs": [
      {
       "output_type": "stream",
       "stream": "stdout",
       "text": [
        "C\t\tP_g(C|Y)\tP_a(C|Y)\t|Diff|\n",
        "(0, 0, 0, 0)\t0.1240000\t0.1328050\t0.0088050\n",
        "(0, 0, 0, 1)\t0.0900000\t0.0864616\t0.0035384\n",
        "(0, 0, 1, 0)\t0.0860000\t0.0864616\t0.0004616\n",
        "(0, 0, 1, 1)\t0.0200000\t0.0227718\t0.0027718\n",
        "(0, 1, 0, 0)\t0.0280000\t0.0288205\t0.0008205\n",
        "(0, 1, 0, 1)\t0.1200000\t0.0910871\t0.0289129\n",
        "(0, 1, 1, 0)\t0.0280000\t0.0227718\t0.0052282\n",
        "(0, 1, 1, 1)\t0.0340000\t0.0288205\t0.0051795\n",
        "(1, 0, 0, 0)\t0.0260000\t0.0288205\t0.0028205\n",
        "(1, 0, 0, 1)\t0.0180000\t0.0227718\t0.0047718\n",
        "(1, 0, 1, 0)\t0.0620000\t0.0910871\t0.0290871\n",
        "(1, 0, 1, 1)\t0.0380000\t0.0288205\t0.0091795\n",
        "(1, 1, 0, 0)\t0.0180000\t0.0227718\t0.0047718\n",
        "(1, 1, 0, 1)\t0.0980000\t0.0864616\t0.0115384\n",
        "(1, 1, 1, 0)\t0.0660000\t0.0864616\t0.0204616\n",
        "(1, 1, 1, 1)\t0.1440000\t0.1328050\t0.0111949\n"
       ]
      }
     ],
     "prompt_number": 61
    },
    {
     "cell_type": "markdown",
     "metadata": {},
     "source": [
      "This looks reasonable. We can also get a sense for the trend as we increase the number of iterations:"
     ]
    },
    {
     "cell_type": "code",
     "collapsed": false,
     "input": [
      "plt.plot(np.arange(0, chain.shape[0], skip) + 1, kls)\n",
      "plt.xlabel('Iterations')\n",
      "plt.ylabel('Posterior KL-divergence')"
     ],
     "language": "python",
     "metadata": {},
     "outputs": [
      {
       "metadata": {},
       "output_type": "display_data",
       "png": "[encoded data removed]",
       "text": [
        "<matplotlib.figure.Figure at 0x114d38690>"
       ]
      }
     ],
     "prompt_number": 64
    },
    {
     "cell_type": "heading",
     "level": 3,
     "metadata": {},
     "source": [
      "Posterior predictive distribution"
     ]
    },
    {
     "cell_type": "markdown",
     "metadata": {},
     "source": [
      "Another distribution we can look at is the posterior *predictive* distribution $p(y|\\mathcal{C},\\mathcal{Y};\\mathcal{H})$, that is, the distribution over the *next* data point. To derive this, we first note that $p(y|\\mathcal{C},\\mathcal{Y}) = \\sum_{k=1}^{K} p(y,c{=}k|\\mathcal{C},\\mathcal{Y}) = \\sum_{k=1}^{K} p(c{=}k|\\mathcal{C}) p(y|\\mathcal{Y}_{k})$.\n",
      "\n",
      "From [Eq. 9, pg. 3](http://homepage.tudelft.nl/19j49/Publications_files/TR_1.pdf), we have $p(c{=}k|\\mathcal{C}) = \\frac{|\\mathcal{C}_{k}| + \\frac{\\alpha}{K}}{|\\mathcal{C}| + \\alpha}$. Next, $p(y|\\mathcal{Y}_{k})$ is simply the posterior predictive of the beta-bernoulli likelihood model. That is, $p(y_d{=}1|\\mathcal{Y}_{k})= \\frac{\\beta + \\sum_{y_i \\in \\mathcal{Y}_{k}} y_i^d}{ \\beta + \\gamma + |\\mathcal{Y}_{k}|  } $. Putting it together, we have\n",
      "\\begin{align*}\n",
      "  p(y|\\mathcal{C},\\mathcal{Y}) = \\sum_{k=1}^{K} \\frac{|\\mathcal{C}_{k}| + \\frac{\\alpha}{K}}{|\\mathcal{C}| + \\alpha} \\prod_{d=1}^{D}  (\\hat{p}_d^k)^{y_d} (1-\\hat{p}_d^k)^{1-y_d}\n",
      "\\end{align*}\n",
      "where $\\hat{p}_d^k = \\frac{\\beta + \\sum_{y_i \\in \\mathcal{Y}_{k}} y_i^d}{ \\beta + \\gamma + |\\mathcal{Y}_{k}| } $.\n",
      "\n",
      "We can also look at the non-Bayesian case, where we know the exact values for $\\pi$ and $\\{ p_d^k \\}$.\n",
      "\\begin{align*}\n",
      "  p(y | \\pi, \\{p_d^k\\}) = \\sum_{k=1}^{K} \\pi_k \\prod_{d=1}^{D} (p_d^k)^{y_d} (1-p_d^k)^{1-y_d}\n",
      "\\end{align*}\n",
      "\n",
      "This makes explicit how our prior information affects our estimates of $\\hat{\\pi}$ and $\\hat{p_d^k}$. Now for the reference distributions, we know both the ground truth cluster assignment and the exact model parameters, so we can compute $ p(y|\\mathcal{C},\\mathcal{Y}) $ and $ p(y | \\pi, \\{p_d^k\\})$ exactly. For our Gibbs sampler, we estimate $p(y|\\mathcal{C},\\mathcal{Y})$ by averaging over our samples of $\\mathcal{C}$. Details below:"
     ]
    },
    {
     "cell_type": "code",
     "collapsed": false,
     "input": [
      "def posterior_predictive1(C, Y, K, alpha, beta, gamma):\n",
      "    N, D = Y.shape\n",
      "    assert C.shape[0] == N\n",
      "    \n",
      "    nks = np.bincount(C, minlength=K)\n",
      "    sums = np.zeros((D, K), dtype=np.int64) \n",
      "    for yi, ci in zip(Y, C): \n",
      "        sums[:,ci] += yi\n",
      "        \n",
      "    lg_term1 = np.log(nks + alpha/K) - np.log(N + alpha)\n",
      "\n",
      "def posterior_predictive(C, Y, K, alpha, beta, gamma):\n",
      "    N, D = Y.shape\n",
      "    assert C.shape[0] == N\n",
      "\n",
      "    nks = np.bincount(C, minlength=K)\n",
      "    sums = np.zeros((K, D), dtype=np.int64) \n",
      "    for yi, ci in zip(Y, C): \n",
      "        sums[ci] += yi\n",
      "\n",
      "    def fn(yvalue):\n",
      "        def fn1(nk, sum_yid, yd):\n",
      "            assert nk >= sum_yid\n",
      "            theta = (beta + sum_yid) / (beta + gamma + nk) \n",
      "            assert theta >= 0.0 and theta <= 1.0 \n",
      "            return np.log(theta) if yd else np.log(1.-theta)\n",
      "        def fn2(nk, row):\n",
      "            assert len(yvalue) == row.shape[0]\n",
      "            term1 = np.log(nk + alpha/K) - np.log(N + alpha)\n",
      "            term2 = sum(fn1(nk, sum_yid, yd) for sum_yid, yd in zip(row, yvalue))\n",
      "            return term1 + term2\n",
      "        return sp.misc.logsumexp([fn2(nk, row) for nk, row in zip(nks, sums)])\n",
      "\n",
      "    yvalues = it.product([0, 1], repeat=D)\n",
      "    lg_pr_yvalue = map(fn, yvalues)\n",
      "    return np.exp(lg_pr_yvalue)\n",
      "\n",
      "def posterior_predictive_nonbayes(pis, aks):\n",
      "    K, = pis.shape\n",
      "    assert aks.shape[0] == K\n",
      "    _, D = aks.shape\n",
      "    \n",
      "    def fn(yvalue):\n",
      "        def fn2(yd, theta_kd):\n",
      "            return np.log(theta_kd) if yd else np.log(1.-theta_kd)\n",
      "        def fn1(pi_k, theta_k):\n",
      "            return np.log(pi_k) + sum(fn2(yd, theta_kd) for yd, theta_kd in zip(yvalue, theta_k))\n",
      "        return sp.misc.logsumexp([fn1(pi_k, theta_k) for pi_k, theta_k in zip(pis, aks)])\n",
      "    \n",
      "    yvalues = it.product([0, 1], repeat=D)\n",
      "    lg_pr_yvalue = map(fn, yvalues)\n",
      "    return np.exp(lg_pr_yvalue)"
     ],
     "language": "python",
     "metadata": {},
     "outputs": [],
     "prompt_number": 65
    },
    {
     "cell_type": "code",
     "collapsed": false,
     "input": [
      "# reference distributions\n",
      "actual_posterior_predictive = posterior_predictive(cis, Y, K, alpha, beta, gamma)\n",
      "nonbayes_posterior_predictive = posterior_predictive_nonbayes(pis, aks)\n",
      "\n",
      "posterior_predictives = np.array([\n",
      "    posterior_predictive(assignment, Y, K, alpha, beta, gamma) for assignment in skipped_chain])\n",
      "    \n",
      "def fn1(i):\n",
      "    posteriors = posterior_predictives[min(0, i-window):(i+1)].mean(axis=0)\n",
      "    return kl(actual_posterior_predictive, posteriors)\n",
      "\n",
      "posterior_predictive_kls = map(fn1, xrange(posterior_predictives.shape[0]))"
     ],
     "language": "python",
     "metadata": {},
     "outputs": [],
     "prompt_number": 66
    },
    {
     "cell_type": "code",
     "collapsed": false,
     "input": [
      "PH = posterior_predictives[posterior_predictives.shape[0]-1-window:].mean(axis=0)\n",
      "print \"y\\t\\tP(y|C) [gibbs]\\tP(y|C) [actual]\\tP(y|params)\\t|gibbs-actual|\"\n",
      "for y, ((a, b), c) in zip(it.product([0,1],repeat=D), zip(zip(PH, actual_posterior_predictive), nonbayes_posterior_predictive)):\n",
      "    print \"\\t\".join(map(str, [y, a, b, c, math.fabs(a-b)]))"
     ],
     "language": "python",
     "metadata": {},
     "outputs": [
      {
       "output_type": "stream",
       "stream": "stdout",
       "text": [
        "y\t\tP(y|C) [gibbs]\tP(y|C) [actual]\tP(y|params)\t|gibbs-actual|\n",
        "(0, 0, 0)\t0.129465256173\t0.130765432099\t0.145796887467\t0.00130017592593\n",
        "(0, 0, 1)\t0.0661453919753\t0.0707160493827\t0.0602427431159\t0.00457065740741\n",
        "(0, 1, 0)\t0.107173910494\t0.0973827160494\t0.271569844867\t0.00979119444444\n",
        "(0, 1, 1)\t0.0656987746914\t0.0566913580247\t0.135681228984\t0.00900741666667\n",
        "(1, 0, 0)\t0.196573169753\t0.177382716049\t0.0713598709559\t0.0191904537037\n",
        "(1, 0, 1)\t0.107571737654\t0.110024691358\t0.0312461999697\t0.0024529537037\n",
        "(1, 1, 0)\t0.197682108025\t0.216691358025\t0.189236544177\t0.01900925\n",
        "(1, 1, 1)\t0.129689651235\t0.140345679012\t0.0948666804639\t0.0106560277778\n"
       ]
      }
     ],
     "prompt_number": 67
    },
    {
     "cell_type": "markdown",
     "metadata": {},
     "source": [
      "Let's take a look at the posterior predictive distributions of the *last* window compared to the ground truth distributions:"
     ]
    },
    {
     "cell_type": "markdown",
     "metadata": {},
     "source": [
      "Notice how our Gibbs estimate of the distribution does not quite match the non-Bayesian one, which makes sense. Since $N$ is small in our case, our prior distribution is still weighing in non-negligibly. Finally, let's take a look at the KL-divergence (w.r.t. the *Bayesian* distribution with ground truth clusters) as the number of iterations increases:"
     ]
    },
    {
     "cell_type": "code",
     "collapsed": false,
     "input": [
      "plt.plot(np.arange(0, niters, skip) + 1, posterior_predictive_kls)\n",
      "plt.xlabel('Iterations')\n",
      "plt.ylabel('Posterior predictive KL-divergence')"
     ],
     "language": "python",
     "metadata": {},
     "outputs": [
      {
       "metadata": {},
       "output_type": "pyout",
       "prompt_number": 68,
       "text": [
        "<matplotlib.text.Text at 0x11546be10>"
       ]
      },
      {
       "metadata": {},
       "output_type": "display_data",
       "png": "[encoded data removed]",
       "text": [
        "<matplotlib.figure.Figure at 0x114ae5350>"
       ]
      }
     ],
     "prompt_number": 68
    },
    {
     "cell_type": "markdown",
     "metadata": {},
     "source": [
      "Note that this distribution seems to converge more slowly than the posterior in the previous section. "
     ]
    },
    {
     "cell_type": "heading",
     "level": 3,
     "metadata": {},
     "source": [
      "USPS digit dataset example"
     ]
    },
    {
     "cell_type": "markdown",
     "metadata": {},
     "source": [
      "In this section, we use our Gibbs sampler to learn clusters for digit recognition. Our digit dataset is the [USPS digit dataset](http://www.gaussianprocess.org/gpml/data/). We'll just focus on the digit 2 for this example."
     ]
    },
    {
     "cell_type": "code",
     "collapsed": false,
     "input": [
      "usps_digits = sp.io.loadmat('data/usps_resampled/usps_resampled.mat')"
     ],
     "language": "python",
     "metadata": {},
     "outputs": [],
     "prompt_number": 15
    },
    {
     "cell_type": "code",
     "collapsed": false,
     "input": [
      "usps_class_2 = usps_digits['train_labels'][2,:] == 1\n",
      "usps_Y0 = usps_digits['train_patterns'][:,usps_class_2]\n",
      "usps_Y = np.zeros(usps_Y0.shape)\n",
      "usps_Y[usps_Y0>0.1] = 1.0 # make the image binary\n",
      "plt.imshow(usps_Y[:,3].reshape((16,16)), cmap=plt.cm.binary)"
     ],
     "language": "python",
     "metadata": {},
     "outputs": [
      {
       "metadata": {},
       "output_type": "pyout",
       "prompt_number": 16,
       "text": [
        "<matplotlib.image.AxesImage at 0x112abe950>"
       ]
      },
      {
       "metadata": {},
       "output_type": "display_data",
       "png": "[encoded data removed]",
       "text": [
        "<matplotlib.figure.Figure at 0x111640450>"
       ]
      }
     ],
     "prompt_number": 16
    },
    {
     "cell_type": "code",
     "collapsed": false,
     "input": [
      "usps_Y = np.array(usps_Y.T, dtype=np.int64) # convert dataset to our dimension"
     ],
     "language": "python",
     "metadata": {},
     "outputs": [],
     "prompt_number": 70
    },
    {
     "cell_type": "markdown",
     "metadata": {},
     "source": [
      "We are ready to run our Gibbs sampler on this dataset. First, we use the hyper-parameters used by [Maaten](http://homepage.tudelft.nl/19j49/Publications_files/TR_1.pdf)"
     ]
    },
    {
     "cell_type": "code",
     "collapsed": false,
     "input": [
      "# USPS priors\n",
      "usps_alpha, usps_beta, usps_gamma = 50., .5, .5\n",
      "usps_K = 40\n",
      "usps_N, usps_D = usps_Y.shape\n",
      "usps_niters = 1000\n",
      "print usps_N, usps_D"
     ],
     "language": "python",
     "metadata": {},
     "outputs": [
      {
       "output_type": "stream",
       "stream": "stdout",
       "text": [
        "475 256\n"
       ]
      }
     ],
     "prompt_number": 69
    },
    {
     "cell_type": "code",
     "collapsed": false,
     "input": [
      "usps_chain = gibbs_beta_bernoulli(usps_Y, usps_K, usps_alpha, usps_beta, usps_gamma, usps_niters)"
     ],
     "language": "python",
     "metadata": {},
     "outputs": [],
     "prompt_number": 20
    },
    {
     "cell_type": "markdown",
     "metadata": {},
     "source": [
      "Let's plot the posterior predictive of each cluster separately, to see what each cluster looks like."
     ]
    },
    {
     "cell_type": "code",
     "collapsed": false,
     "input": [
      "def posterior_thetas(C, Y, K, beta, gamma):\n",
      "    N, D = Y.shape\n",
      "    assert C.shape[0] == N\n",
      "    thetas = np.zeros((K, D))\n",
      "    for k in xrange(K):\n",
      "        thetas[k] = (beta + Y[C==k].sum(axis=0)) / (beta + gamma + N)\n",
      "    return thetas\n",
      "\n",
      "usps_chain = usps_chain[::skip]\n",
      "pts = np.array([posterior_thetas(c, usps_Y, usps_K, usps_beta, usps_gamma) for c in usps_chain])\n",
      "pts = pts.mean(axis=0)"
     ],
     "language": "python",
     "metadata": {},
     "outputs": [],
     "prompt_number": 39
    },
    {
     "cell_type": "code",
     "collapsed": false,
     "input": [
      "digits_per_row = 5\n",
      "assert not (pt.shape[0] % digits_per_row)\n",
      "img = np.vstack([\n",
      "    np.hstack([\n",
      "        p.reshape((16, 16)) for p in pt[i:(i+digits_per_row)]]) \n",
      "    for i in xrange(0, pt.shape[0], digits_per_row)]) \n",
      "plt.rcParams['figure.figsize'] = (10.0, 8.0)\n",
      "plt.imshow(img, cmap=plt.cm.binary)"
     ],
     "language": "python",
     "metadata": {},
     "outputs": [
      {
       "metadata": {},
       "output_type": "pyout",
       "prompt_number": 42,
       "text": [
        "<matplotlib.image.AxesImage at 0x1140aa510>"
       ]
      },
      {
       "metadata": {},
       "output_type": "display_data",
       "png": "[encoded data removed]",
       "text": [
        "<matplotlib.figure.Figure at 0x113ff8790>"
       ]
      }
     ],
     "prompt_number": 42
    },
    {
     "cell_type": "markdown",
     "metadata": {},
     "source": [
      "We'll notice some of the clusters are empty. This is because our sampler assigns zero mass to some of the cluster; we can see this by plotting a histogram of, e.g. the last assignment vector generated by our Gibbs sampler."
     ]
    },
    {
     "cell_type": "code",
     "collapsed": false,
     "input": [
      "plt.hist(usps_chain[-1], bins=40)"
     ],
     "language": "python",
     "metadata": {},
     "outputs": [
      {
       "metadata": {},
       "output_type": "pyout",
       "prompt_number": 52,
       "text": [
        "(array([  3.,  14.,   0.,   4.,  33.,   0.,  11.,   6.,   6.,  23.,  14.,\n",
        "          0.,  22.,  13.,   2.,   0.,   6.,   2.,   4.,  19.,   0.,   4.,\n",
        "          2.,   8.,  14.,   0.,  29.,  64.,   0.,   4.,   8.,  11.,  23.,\n",
        "          8.,  16.,  30.,  11.,  10.,   4.,  47.]),\n",
        " array([  0.   ,   0.975,   1.95 ,   2.925,   3.9  ,   4.875,   5.85 ,\n",
        "          6.825,   7.8  ,   8.775,   9.75 ,  10.725,  11.7  ,  12.675,\n",
        "         13.65 ,  14.625,  15.6  ,  16.575,  17.55 ,  18.525,  19.5  ,\n",
        "         20.475,  21.45 ,  22.425,  23.4  ,  24.375,  25.35 ,  26.325,\n",
        "         27.3  ,  28.275,  29.25 ,  30.225,  31.2  ,  32.175,  33.15 ,\n",
        "         34.125,  35.1  ,  36.075,  37.05 ,  38.025,  39.   ]),\n",
        " <a list of 40 Patch objects>)"
       ]
      },
      {
       "metadata": {},
       "output_type": "display_data",
       "png": "[encoded data removed]",
       "text": [
        "<matplotlib.figure.Figure at 0x113ee9210>"
       ]
      }
     ],
     "prompt_number": 52
    },
    {
     "cell_type": "markdown",
     "metadata": {},
     "source": [
      "This is a great segway into infinite dimensional models!"
     ]
    },
    {
     "cell_type": "code",
     "collapsed": false,
     "input": [],
     "language": "python",
     "metadata": {},
     "outputs": []
    }
   ],
   "metadata": {}
  }
 ]
}