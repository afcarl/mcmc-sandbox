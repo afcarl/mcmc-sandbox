{
 "metadata": {
  "name": "",
  "signature": "sha256:f2aaf87943dbda6f7189ade3fc46d75e0ceb74eaf47c16dbe05bdacac66b537d"
 },
 "nbformat": 3,
 "nbformat_minor": 0,
 "worksheets": [
  {
   "cells": [
    {
     "cell_type": "heading",
     "level": 1,
     "metadata": {},
     "source": [
      "Metropolis-Hastings "
     ]
    },
    {
     "cell_type": "heading",
     "level": 2,
     "metadata": {},
     "source": [
      "Algorithm"
     ]
    },
    {
     "cell_type": "markdown",
     "metadata": {},
     "source": [
      "Metropolis-Hastings (MH) is a Markov-chain monte carlo (MCMC) algorithm often used to sample from arbitrary distributions which are tricky to sample from (e.g. too intractable to integrate and form a CDF). Given a target distribution $\\pi$ where we know the density for (up to a proportionality constant), MH is a technique to construct a Markov chain $\\{ X_t \\}$ whose stationary distribution is equal to $\\pi$. \n",
      "\n",
      "The algorithm is iterative, and works by using a proposal distribution $Q(\\cdot | X_t)$ at each iteration. At step $t$, a proposal $X'$ is sampled from $Q(\\cdot|X_t)$, and accepted with probability $\\alpha(X_t, X') = \\min\\left(1, \\frac{\\pi(X')}{\\pi(X_t)}\\frac{q(X_t|X')}{q(X'|X_t)}\\right)$. This is a simple algorithm, which we implement below:"
     ]
    },
    {
     "cell_type": "code",
     "collapsed": false,
     "input": [
      "import numpy as np\n",
      "\n",
      "def mh(lg_target_ppdf, lg_proposal_cond_ppdf, proposal_cond_draw, niters, x0, rng=np.random):\n",
      "    \"\"\"\n",
      "    lg_target_ppdf        - log (proportional) density\n",
      "    lg_proposal_cond_ppdf - conditioned on arg0, log (proportional) density\n",
      "    proposal_cond_draw    - conditioned on arg0, draw a random sample\n",
      "    \n",
      "    niters - number of iterations\n",
      "    x0     - starting point\n",
      "    rng    - a numpy.random object\n",
      "    \"\"\"\n",
      "\n",
      "    xt = x0\n",
      "    values = []\n",
      "    while niters:\n",
      "        # sample xprop ~ Q(.|xt)\n",
      "        xprop = proposal_cond_draw(xt, rng)\n",
      "\n",
      "        # compute acceptance probability\n",
      "        lg_alpha_1 = lg_target_ppdf(xprop) - lg_target_ppdf(xt)\n",
      "        lg_alpha_2 = lg_proposal_cond_ppdf(xprop, xt) - lg_proposal_cond_ppdf(xt, xprop)\n",
      "        lg_alpha   = lg_alpha_1 + lg_alpha_2\n",
      "\n",
      "        # accept w.p. alpha(xprop, xt)\n",
      "        if lg_alpha >= 0.0 or rng.random() <= np.exp(lg_alpha):\n",
      "            xt = xprop\n",
      "\n",
      "        # save the value for later analysis\n",
      "        values.append(xt)\n",
      "        niters -= 1\n",
      "\n",
      "    return np.array(values)"
     ],
     "language": "python",
     "metadata": {},
     "outputs": [],
     "prompt_number": 20
    },
    {
     "cell_type": "heading",
     "level": 2,
     "metadata": {},
     "source": [
      "Gaussian target distribution example"
     ]
    },
    {
     "cell_type": "markdown",
     "metadata": {},
     "source": [
      "First, we generate a random target Gaussian distribution. Despite it being easy to actually generate samples from a Gaussian, we use this as a working example to demonstrate the converge behavior of Metropolis-Hastings.\n",
      "\n",
      "To keep things simple we will work with $\\mathbb{R}^2$. Our target distribution will be $\\mathcal{N}([1, 1]^{T}, A \\cdot \\mathrm{diag}(1, 0.1) \\cdot A^T)$, where $A$ is a randomly generated unitary matrix. We first generate a random $A$.\n"
     ]
    },
    {
     "cell_type": "code",
     "collapsed": false,
     "input": [
      "def almost_eq(a, b):\n",
      "    return (np.fabs(a - b) <= 1e-5).all()\n",
      "\n",
      "def rank(A):\n",
      "    _, S, _ = np.linalg.svd(A)\n",
      "    return int(np.sum(S >= 1e-10))\n",
      "\n",
      "def random_orthogonal_matrix(m, n): \n",
      "    A, _ = np.linalg.qr(np.random.random((m, n)))\n",
      "    assert rank(A) == min(m, n)\n",
      "    return A\n",
      "\n",
      "def random_orthonormal_matrix(n):\n",
      "    A = random_orthogonal_matrix(n, n)\n",
      "    assert almost_eq(np.dot(A.T, A), np.eye(n))\n",
      "    return A\n",
      "\n",
      "A = random_orthonormal_matrix(2)"
     ],
     "language": "python",
     "metadata": {},
     "outputs": [],
     "prompt_number": 8
    },
    {
     "cell_type": "markdown",
     "metadata": {},
     "source": [
      "Recall that the PDF of a multivariate $d$-dimensional Gaussian $\\mathcal{N}(\\mu, \\Sigma)$ is given as (assuming $\\Sigma$ is positive definite and hence invertible)\n",
      "\\begin{align*}\n",
      "  f(x;\\mu,\\Sigma) = \\frac{1}{\\sqrt{(2\\pi)^{d} |\\Sigma|}} \\exp( -\\frac{1}{2} (x-\\mu)^T \\Sigma^{-1} (x-\\mu))\n",
      "\\end{align*}\n",
      "where $|\\Sigma|$ is the determinant of $\\Sigma$. Taking the logarithm yields\n",
      "\\begin{align*}\n",
      "  \\log f(x;\\mu,\\Sigma) = -\\frac{1}{2}\\log( (2\\pi)^d |\\Sigma| ) - \\frac{1}{2} (x-\\mu)^T \\Sigma^{-1} (x-\\mu)\n",
      "\\end{align*}\n",
      "Therefore, we can fully define our target (log) PDF as follows:"
     ]
    },
    {
     "cell_type": "code",
     "collapsed": false,
     "input": [
      "mu = np.ones(2)\n",
      "diag = [1.0, 0.1]\n",
      "cov = np.dot(np.dot(A, np.diag(diag)), A.T)\n",
      "covinv = np.dot(np.dot(A, np.diag([1./x for x in diag])), A.T)\n",
      "\n",
      "def lg_target_ppdf(x):\n",
      "    diff = x - mu\n",
      "    return -0.5 * np.dot(diff, np.dot(covinv, diff))"
     ],
     "language": "python",
     "metadata": {},
     "outputs": [],
     "prompt_number": 24
    },
    {
     "cell_type": "markdown",
     "metadata": {},
     "source": [
      "Note in our definition of `lg_target_ppdf` we dropped the term which does not depend on $x$, since this will cancel out in the ratio. We now need to pick a proposal distribution $Q(\\cdot| X_t)$. For now, we stick with isotropic Gaussians (e.g. $\\Sigma = \\sigma^2 I_2, Q(\\cdot|X_t) = \\mathcal{N}(X_t, \\Sigma)$), and explore various settings of $\\sigma^2 \\in \\{ 0.01, 0.1, 1.0, 10.0 \\}$. We construct our proposal densities and draw functions below:"
     ]
    },
    {
     "cell_type": "code",
     "collapsed": false,
     "input": [
      "sigma2_props = [0.01, 0.1, 1.0, 10.0]\n",
      "def construct_proposal_fns(sigma2_prop):\n",
      "    propcov = sigma2_prop*np.eye(2)\n",
      "    def lg_proposal_cond_ppdf(xt, x):\n",
      "        diff = x - xt\n",
      "        return -0.5 / sigma2_prop * np.dot(diff, diff)\n",
      "    proposal_cond_draw = lambda xt, rng: rng.multivariate_normal(mean=xt, cov=propcov)\n",
      "    return lg_proposal_cond_ppdf, proposal_cond_draw\n",
      "proposal_fns = map(construct_proposal_fns, sigma2_props)"
     ],
     "language": "python",
     "metadata": {},
     "outputs": [],
     "prompt_number": 14
    },
    {
     "cell_type": "markdown",
     "metadata": {},
     "source": [
      "We can now run our MH experiments! Let us use $X_0 = [0,0]^T$ as the starting point for all our experiments and run for $n=50000$ iterations:"
     ]
    },
    {
     "cell_type": "code",
     "collapsed": false,
     "input": [
      "x0 = np.zeros(2)\n",
      "niters = 50000\n",
      "def run_chain(fns):\n",
      "    lg_proposal_cond_ppdf, proposal_cond_draw = fns\n",
      "    chain = mh(lg_target_ppdf, lg_proposal_cond_ppdf, proposal_cond_draw, niters, x0)\n",
      "    return chain\n",
      "chains = map(run_chain, proposal_fns)"
     ],
     "language": "python",
     "metadata": {},
     "outputs": [],
     "prompt_number": 21
    },
    {
     "cell_type": "markdown",
     "metadata": {},
     "source": [
      "So now we have a bunch of Markov chains, so how do we evaluate their behavior to see if we are indeed drawing samples from our target distribution?\n",
      "\n",
      "Since we have an \"oracle\" implementation of sampling from the target distribution, we can actually\n",
      "draw many samples from the target distribution, form an empirical histogram of the samples, and measure the distance of that histogram to the histograms of samples from our Markov chains.\n",
      "\n",
      "A standard distance \"metric\" for two continuous distributions is the KL-divergence (relative entropy). Assuming distributions $P, Q$ have the same support, the KL-divergence is defined as:\n",
      "\\begin{align*}\n",
      "  D(P || Q) = \\int p(x) \\log\\frac{p(x)}{q(x)} \\; dx\n",
      "\\end{align*}\n",
      "Since we will be discretizing the space ($\\mathbb{R}^2$ in our case), we use the following approximation:\n",
      "\\begin{align*}\n",
      "  D(P || Q) \\approx \\sum_{b} p_b \\log\\frac{p_b}{q_b} \\Delta\n",
      "\\end{align*}\n",
      "where $b$ denotes each discretization (bucket) of the space, and $\\Delta$ is its area. Note this only really works for low dimensional spaces, hence our choice of $\\mathbb{R}^2$.\n",
      "\n",
      "We first draw a bunch of samples from our \"oracle\":"
     ]
    },
    {
     "cell_type": "code",
     "collapsed": false,
     "input": [
      "nsamples = 50000\n",
      "actual_samples = np.random.multivariate_normal(mean=mu, cov=cov, size=nsamples)"
     ],
     "language": "python",
     "metadata": {},
     "outputs": [],
     "prompt_number": 25
    },
    {
     "cell_type": "markdown",
     "metadata": {},
     "source": [
      "Because of our choice of target distribution, we expect most of our mass to be contained within (somewhat arbitrary) $C = [0,2] \\times [0,2]$. We use $C$ as our discretized space form empirical histograms from both the target distribution and the Markov chains as follows. Our goal is now to construct a plot of KL-divergence versus number of iterations for the various values of proposal $\\sigma^2$. Note that when taking samples from our Markov chain, we skip every `skip` number of elements so that the samples \"look\" more independent. We also smooth our histograms to avoid division by zero and/or taking the log of 0:"
     ]
    },
    {
     "cell_type": "code",
     "collapsed": false,
     "input": [
      "def hist2d(data, xbins, ybins):\n",
      "    H, _, _ = np.histogram2d(data[:,0], data[:,1], bins=[xbins, ybins])\n",
      "    return H\n",
      "\n",
      "def kl(a, b, dA):\n",
      "    return np.sum([p*np.log(p/q)*dA for p, q in zip(a, b)])\n",
      "\n",
      "smoothing = 1e-5\n",
      "skip = 100\n",
      "bins = np.linspace(0, 2, 100)\n",
      "\n",
      "actual_hist = (hist2d(actual_samples, bins, bins) + smoothing).flatten()\n",
      "actual_hist /= actual_hist.sum() # normalize\n",
      "\n",
      "# skip the first one since its just the initialization point\n",
      "interest_points = range(0, niters, skip)[1:] \n",
      "def compute_distance(chain):        \n",
      "    def f(i):\n",
      "        effective_samples = chain[:i:skip]\n",
      "        mh_hist = (hist2d(effective_samples, bins, bins) + smoothing).flatten()\n",
      "        mh_hist /= mh_hist.sum() # normalize\n",
      "        score = kl(mh_hist, actual_hist, (bins[1]-bins[0])**2)\n",
      "        return score\n",
      "    return map(f, interest_points)\n",
      "distances = map(compute_distance, chains)"
     ],
     "language": "python",
     "metadata": {},
     "outputs": [],
     "prompt_number": 29
    },
    {
     "cell_type": "code",
     "collapsed": false,
     "input": [
      "%matplotlib inline\n",
      "import matplotlib.pylab as plt\n",
      "for d in distances:\n",
      "    plt.plot(np.array(interest_points)+1, d)\n",
      "plt.legend([r'$\\sigma^2=%s$' % (str(s2)) for s2 in sigma2_props])\n",
      "plt.xlabel('Iterations')\n",
      "plt.ylabel('KL-divergence')"
     ],
     "language": "python",
     "metadata": {},
     "outputs": [
      {
       "metadata": {},
       "output_type": "pyout",
       "prompt_number": 33,
       "text": [
        "<matplotlib.text.Text at 0x115ee61d0>"
       ]
      },
      {
       "metadata": {},
       "output_type": "display_data",
       "png": "[encoded data removed]",
       "text": [
        "<matplotlib.figure.Figure at 0x114748d90>"
       ]
      }
     ],
     "prompt_number": 33
    },
    {
     "cell_type": "markdown",
     "metadata": {},
     "source": [
      "We make two observations. First, for all the proposal distributions, as the number of iterations increases, the KL-divergence decreases. This is good sanity check that our code is doing the right thing! Second, we see that for $\\sigma^2 \\in \\{0.1, 1.0\\}$ the convergence is faster than for $\\sigma^2 \\in \\{0.01, 10.0\\}$. This makes sense, since we expect the fastest convergence when our proposal distribution matches the target."
     ]
    },
    {
     "cell_type": "heading",
     "level": 2,
     "metadata": {},
     "source": [
      "Bimodal distributions"
     ]
    },
    {
     "cell_type": "markdown",
     "metadata": {},
     "source": [
      "We now explore a situation where MH fails to sample from the target distribution. This happens, for instance, when the target distribution has two modes, and the proposal distribution is too conservative. To illustrate this effect, we will use a two-component Gaussian mixture model:\n",
      "\\begin{align*}\n",
      "    f_2(x;\\mu_1,\\Sigma_1,\\mu_2,\\Sigma_2) = \\frac{1}{2} f(x;\\mu_1,\\Sigma_1) + \\frac{1}{2}f(x;\\mu_2,\\Sigma_2)\n",
      "\\end{align*}\n",
      "\n",
      "Note this is equivalent to the following probabilistic model:\n",
      "\\begin{align*}\n",
      "  c &\\sim \\mathrm{Discrete}([\\frac{1}{2}, \\frac{1}{2}]) \\\\\n",
      "  x | c &\\sim \\mathcal{N}(\\mu_c, \\Sigma_c)\n",
      "\\end{align*}\n",
      "\n",
      "In this example we will work with the sample space $\\mathbb{R}$, with $\\mu_1 = -1, \\mu_2 = 1, \\Sigma_1=\\Sigma_2 = 0.1$. To illustrate MH getting stuck at one of the modes, we will use a Gaussian proposal distribution, but with $\\sigma^2 = 0.0001$. Also, we'll set $X_0 = 0$."
     ]
    },
    {
     "cell_type": "code",
     "collapsed": false,
     "input": [
      "import math\n",
      "\n",
      "def normpdf(x, mu, sigma2):\n",
      "    return 1./np.sqrt(2.*math.pi*sigma2) * np.exp(-1./(2.*sigma2)*((x-mu)**2))\n",
      "\n",
      "def lgnormpdf(x, mu, sigma2):\n",
      "    return -0.5*np.log(2.*math.pi*sigma2) - 1./(2.*sigma2)*((x-mu)**2)\n",
      "\n",
      "def hist(data, bins):\n",
      "    H, _ = np.histogram(data, bins=bins, density=False)                                                                \n",
      "    return H\n",
      "\n",
      "mu1 = -1.\n",
      "mu2 = 1.\n",
      "sigma2 = 0.1\n",
      "sigma2_prop = 0.0001\n",
      "sigma_prop = np.sqrt(sigma2_prop)\n",
      "\n",
      "mix_target_pdf = lambda x: 0.5*normpdf(x, mu1, sigma2) + 0.5*normpdf(x, mu2, sigma2)\n",
      "mix_lg_target_ppdf = lambda x: np.log(mix_target_pdf(x))\n",
      "mix_lg_proposal_cond_ppdf = lambda xt, x: lgnormpdf(x, xt, sigma2_prop)\n",
      "mix_proposal_cond_draw = lambda xt, rng: rng.normal(loc=xt, scale=sigma_prop)\n",
      "\n",
      "mix_chain = mh(mix_lg_target_ppdf, mix_lg_proposal_cond_ppdf, mix_proposal_cond_draw, niters, 0.0)"
     ],
     "language": "python",
     "metadata": {},
     "outputs": [],
     "prompt_number": 72
    },
    {
     "cell_type": "markdown",
     "metadata": {},
     "source": [
      "Instead of looking at KL-divergence from the previous example, this time we will actually plot \n",
      "a pdf."
     ]
    },
    {
     "cell_type": "code",
     "collapsed": false,
     "input": [
      "mix_bins = np.linspace(-2, 2, 100)\n",
      "mix_mh_hist = hist(mix_chain, mix_bins) + smoothing\n",
      "mix_mh_hist /= mix_mh_hist.sum()\n",
      "mix_width = mix_bins[1] - mix_bins[0]\n",
      "mix_center = (mix_bins[:-1] + mix_bins[1:]) / 2"
     ],
     "language": "python",
     "metadata": {},
     "outputs": [],
     "prompt_number": 73
    },
    {
     "cell_type": "code",
     "collapsed": false,
     "input": [
      "plt.bar(mix_center, mix_mh_hist / mix_width, align='center', width=0.7*mix_width)\n",
      "plt.plot(mix_bins, mix_target_pdf(mix_bins), 'r', linewidth=2)\n",
      "plt.xlabel('x')\n",
      "plt.ylabel('pdf')"
     ],
     "language": "python",
     "metadata": {},
     "outputs": [
      {
       "metadata": {},
       "output_type": "pyout",
       "prompt_number": 75,
       "text": [
        "<matplotlib.text.Text at 0x11b72f190>"
       ]
      },
      {
       "metadata": {},
       "output_type": "display_data",
       "png": "[encoded data removed]",
       "text": [
        "<matplotlib.figure.Figure at 0x11b8908d0>"
       ]
      }
     ],
     "prompt_number": 75
    },
    {
     "cell_type": "markdown",
     "metadata": {},
     "source": [
      "Notice that the MH samples are concentrated around one of the Gaussian components only; the component on the RHS is completely unexplored!"
     ]
    }
   ],
   "metadata": {}
  }
 ]
}